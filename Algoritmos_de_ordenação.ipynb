{
  "nbformat": 4,
  "nbformat_minor": 0,
  "metadata": {
    "colab": {
      "provenance": []
    },
    "kernelspec": {
      "name": "python3",
      "display_name": "Python 3"
    },
    "language_info": {
      "name": "python"
    }
  },
  "cells": [
    {
      "cell_type": "code",
      "execution_count": 2,
      "metadata": {
        "colab": {
          "base_uri": "https://localhost:8080/"
        },
        "id": "s_YnutH8Zy9I",
        "outputId": "b86eb153-297f-4bdf-f3fd-4b4e9429af1e"
      },
      "outputs": [
        {
          "output_type": "stream",
          "name": "stdout",
          "text": [
            "Lista Original: \n",
            "[64, 34, 25, 12, 22, 11, 90]\n",
            "\n",
            "Ordenando...\n",
            "\n",
            "Troca: [34, 64, 25, 12, 22, 11, 90]\n",
            "Troca: [34, 25, 64, 12, 22, 11, 90]\n",
            "Troca: [34, 25, 12, 64, 22, 11, 90]\n",
            "Troca: [34, 25, 12, 22, 64, 11, 90]\n",
            "Troca: [34, 25, 12, 22, 11, 64, 90]\n",
            "\n",
            "Passada 1: [34, 25, 12, 22, 11, 64, 90]\n",
            "Troca: [25, 34, 12, 22, 11, 64, 90]\n",
            "Troca: [25, 12, 34, 22, 11, 64, 90]\n",
            "Troca: [25, 12, 22, 34, 11, 64, 90]\n",
            "Troca: [25, 12, 22, 11, 34, 64, 90]\n",
            "\n",
            "Passada 2: [25, 12, 22, 11, 34, 64, 90]\n",
            "Troca: [12, 25, 22, 11, 34, 64, 90]\n",
            "Troca: [12, 22, 25, 11, 34, 64, 90]\n",
            "Troca: [12, 22, 11, 25, 34, 64, 90]\n",
            "\n",
            "Passada 3: [12, 22, 11, 25, 34, 64, 90]\n",
            "Troca: [12, 11, 22, 25, 34, 64, 90]\n",
            "\n",
            "Passada 4: [12, 11, 22, 25, 34, 64, 90]\n",
            "Troca: [11, 12, 22, 25, 34, 64, 90]\n",
            "\n",
            "Passada 5: [11, 12, 22, 25, 34, 64, 90]\n",
            "\n",
            "Passada 6: [11, 12, 22, 25, 34, 64, 90]\n",
            "\n",
            "Passada 7: [11, 12, 22, 25, 34, 64, 90]\n",
            "\n",
            "Lista Ordenada:\n",
            "[11, 12, 22, 25, 34, 64, 90]\n"
          ]
        }
      ],
      "source": [
        "#Bubble Sort:\n",
        "\n",
        "def bubbleSort(lista):\n",
        "  numeros = len(lista)\n",
        "  for numero in range(numeros):\n",
        "    for index in range(0, numeros-numero-1):\n",
        "      if lista[index] > lista [index + 1]:\n",
        "        lista[index], lista[index+1] = lista[index+1], lista[index]\n",
        "        print(f\"Troca: {lista}\")\n",
        "    print(f\"\\nPassada {numero + 1}: {lista}\")\n",
        "  return lista\n",
        "\n",
        "listaExemplo = [64, 34, 25, 12, 22, 11, 90]\n",
        "print(\"Lista Original: \")\n",
        "print(listaExemplo)\n",
        "print(\"\\nOrdenando...\\n\")\n",
        "listaOrdenada = bubbleSort(listaExemplo)\n",
        "print(\"\\nLista Ordenada:\")\n",
        "print(listaOrdenada)"
      ]
    },
    {
      "cell_type": "code",
      "source": [
        "#Insert Sort\n",
        "def insertionSort(numeros):\n",
        "  for numero in range(1, len(numeros)):\n",
        "    chave = numeros[numero]\n",
        "    numAnterior = numero - 1\n",
        "    while numAnterior >= 0 and numeros[numAnterior] > chave:\n",
        "      numeros[numAnterior + 1] = numeros[numAnterior]\n",
        "      numAnterior -= 1\n",
        "      print(f\"movimentação: {numeros}\")\n",
        "    numeros[numAnterior + 1] = chave\n",
        "    print(f\"\\ninserção: {numero}: {numeros}\")\n",
        "  return numeros\n",
        "\n",
        "listaExemplo = [64, 34, 25, 12, 22, 11, 90]\n",
        "print(\"Lista Original: \")\n",
        "print(listaExemplo)\n",
        "print(\"\\nOrdenando...\\n\")\n",
        "listaOrdenada = insertionSort(listaExemplo)\n",
        "print(\"\\nLista Ordenada:\")\n",
        "print(listaOrdenada)"
      ],
      "metadata": {
        "colab": {
          "base_uri": "https://localhost:8080/"
        },
        "id": "rRNJ2HsMgL1G",
        "outputId": "38fd312b-ca53-457e-c9a2-77b309fdaa75"
      },
      "execution_count": 5,
      "outputs": [
        {
          "output_type": "stream",
          "name": "stdout",
          "text": [
            "Lista Original: \n",
            "[64, 34, 25, 12, 22, 11, 90]\n",
            "\n",
            "Ordenando...\n",
            "\n",
            "movimentação: [64, 64, 25, 12, 22, 11, 90]\n",
            "\n",
            "inserção: 1: [34, 64, 25, 12, 22, 11, 90]\n",
            "movimentação: [34, 64, 64, 12, 22, 11, 90]\n",
            "movimentação: [34, 34, 64, 12, 22, 11, 90]\n",
            "\n",
            "inserção: 2: [25, 34, 64, 12, 22, 11, 90]\n",
            "movimentação: [25, 34, 64, 64, 22, 11, 90]\n",
            "movimentação: [25, 34, 34, 64, 22, 11, 90]\n",
            "movimentação: [25, 25, 34, 64, 22, 11, 90]\n",
            "\n",
            "inserção: 3: [12, 25, 34, 64, 22, 11, 90]\n",
            "movimentação: [12, 25, 34, 64, 64, 11, 90]\n",
            "movimentação: [12, 25, 34, 34, 64, 11, 90]\n",
            "movimentação: [12, 25, 25, 34, 64, 11, 90]\n",
            "\n",
            "inserção: 4: [12, 22, 25, 34, 64, 11, 90]\n",
            "movimentação: [12, 22, 25, 34, 64, 64, 90]\n",
            "movimentação: [12, 22, 25, 34, 34, 64, 90]\n",
            "movimentação: [12, 22, 25, 25, 34, 64, 90]\n",
            "movimentação: [12, 22, 22, 25, 34, 64, 90]\n",
            "movimentação: [12, 12, 22, 25, 34, 64, 90]\n",
            "\n",
            "inserção: 5: [11, 12, 22, 25, 34, 64, 90]\n",
            "\n",
            "inserção: 6: [11, 12, 22, 25, 34, 64, 90]\n",
            "\n",
            "Lista Ordenada:\n",
            "[11, 12, 22, 25, 34, 64, 90]\n"
          ]
        }
      ]
    },
    {
      "cell_type": "code",
      "source": [
        "#Select Sort\n",
        "\n",
        "def selectionSort(numeros):\n",
        "  for numero in range(len(numeros)):\n",
        "    min = numero\n",
        "    for num in range(numero + 1, len(numeros)):\n",
        "      if numeros[num] < numeros[min]:\n",
        "        min = num\n",
        "    numeros[numero], numeros[min] = numeros[min], numeros[numero]\n",
        "    print(f\"Troca: {numero + 1}: {numeros}\")\n",
        "  return numeros\n",
        "\n",
        "listaExemplo = [64, 34, 25, 12, 22, 11, 90]\n",
        "print(\"Lista Original: \")\n",
        "print(listaExemplo)\n",
        "print(\"\\nOrdenando...\\n\")\n",
        "listaOrdenada = selectionSort(listaExemplo)\n",
        "print(\"\\nLista Ordenada:\")\n",
        "print(listaOrdenada)"
      ],
      "metadata": {
        "colab": {
          "base_uri": "https://localhost:8080/"
        },
        "id": "-M0ADbaNvOTB",
        "outputId": "c9c9b1b2-4063-47aa-fbce-d80a42d91cfd"
      },
      "execution_count": 9,
      "outputs": [
        {
          "output_type": "stream",
          "name": "stdout",
          "text": [
            "Lista Original: \n",
            "[64, 34, 25, 12, 22, 11, 90]\n",
            "\n",
            "Ordenando...\n",
            "\n",
            "Troca: 1: [11, 34, 25, 12, 22, 64, 90]\n",
            "Troca: 2: [11, 12, 25, 34, 22, 64, 90]\n",
            "Troca: 3: [11, 12, 22, 34, 25, 64, 90]\n",
            "Troca: 4: [11, 12, 22, 25, 34, 64, 90]\n",
            "Troca: 5: [11, 12, 22, 25, 34, 64, 90]\n",
            "Troca: 6: [11, 12, 22, 25, 34, 64, 90]\n",
            "Troca: 7: [11, 12, 22, 25, 34, 64, 90]\n",
            "\n",
            "Lista Ordenada:\n",
            "[11, 12, 22, 25, 34, 64, 90]\n"
          ]
        }
      ]
    },
    {
      "cell_type": "code",
      "source": [
        "# Merge Sort\n",
        "\n",
        "def mergeSort(numeros):\n",
        "  if len(numeros) > 1:\n",
        "    meio = len(numeros) // 2\n",
        "    esquerda = numeros[:meio]\n",
        "    direita = numeros[meio:]\n",
        "\n",
        "    mergeSort(esquerda)\n",
        "    mergeSort(direita)\n",
        "\n",
        "\n",
        "    i = j = k = 0\n",
        "\n",
        "    while i < len(esquerda) and j < len(direita):\n",
        "      if esquerda[i] < direita[j]:\n",
        "        numeros[k] = esquerda[i]\n",
        "        i += 1\n",
        "      else:\n",
        "        numeros[k] = direita[j]\n",
        "        j += 1\n",
        "      k += 1\n",
        "\n",
        "    while i < len(esquerda):\n",
        "      numeros[k] = esquerda[i]\n",
        "      i += 1\n",
        "      k += 1\n",
        "\n",
        "    while j < len(direita):\n",
        "      numeros[k] = direita[j]\n",
        "      j += 1\n",
        "      k += 1\n",
        "\n",
        "    print(f\"Merge: {numeros}\")\n",
        "  return numeros\n",
        "\n",
        "listaExemplo = [64, 34, 25, 12, 22, 11, 90]\n",
        "print(\"Lista Original: \")\n",
        "print(listaExemplo)\n",
        "print(\"\\nOrdenando...\\n\")\n",
        "listaOrdenada = mergeSort(listaExemplo)\n",
        "print(\"\\nLista Ordenada:\")\n",
        "print(listaOrdenada)"
      ],
      "metadata": {
        "colab": {
          "base_uri": "https://localhost:8080/"
        },
        "id": "_2QYGuVk0XAd",
        "outputId": "aadb48e2-dc1c-4298-b2ed-cf3108c6f037"
      },
      "execution_count": 14,
      "outputs": [
        {
          "output_type": "stream",
          "name": "stdout",
          "text": [
            "Lista Original: \n",
            "[64, 34, 25, 12, 22, 11, 90]\n",
            "\n",
            "Ordenando...\n",
            "\n",
            "Merge: [25, 34]\n",
            "Merge: [25, 34, 64]\n",
            "Merge: [12, 22]\n",
            "Merge: [11, 90]\n",
            "Merge: [11, 12, 22, 90]\n",
            "Merge: [11, 12, 22, 25, 34, 64, 90]\n",
            "\n",
            "Lista Ordenada:\n",
            "[11, 12, 22, 25, 34, 64, 90]\n"
          ]
        }
      ]
    }
  ]
}