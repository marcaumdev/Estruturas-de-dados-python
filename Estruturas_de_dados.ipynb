{
  "nbformat": 4,
  "nbformat_minor": 0,
  "metadata": {
    "colab": {
      "provenance": []
    },
    "kernelspec": {
      "name": "python3",
      "display_name": "Python 3"
    },
    "language_info": {
      "name": "python"
    }
  },
  "cells": [
    {
      "cell_type": "markdown",
      "source": [
        "- Fila\n",
        "- FIFO\n",
        "- Primeiro a entrar primeiro a sair"
      ],
      "metadata": {
        "id": "pNyMYY3tsEmE"
      }
    },
    {
      "cell_type": "code",
      "execution_count": null,
      "metadata": {
        "colab": {
          "base_uri": "https://localhost:8080/"
        },
        "id": "t3cR507hsBpq",
        "outputId": "c7955e2f-6b78-4f87-9187-43ccea2151ee"
      },
      "outputs": [
        {
          "output_type": "stream",
          "name": "stdout",
          "text": [
            "Elemento 3 foi enfileirado!\n",
            "Atualmente a fila está assim [3]\n",
            "\n",
            "Elemento 5 foi enfileirado!\n",
            "Atualmente a fila está assim [3, 5]\n",
            "\n",
            "Elemento 9 foi enfileirado!\n",
            "Atualmente a fila está assim [3, 5, 9]\n",
            "\n",
            "Elemento 3 foi desenfileirado!\n",
            "Atualmente a fila está assim [5, 9]\n",
            "\n",
            "Elemento 5 foi desenfileirado!\n",
            "Atualmente a fila está assim [9]\n",
            "\n",
            "Elemento 9 foi desenfileirado!\n",
            "Atualmente a fila está assim []\n",
            "\n",
            "A fila esta vazia\n",
            "Atualmente a fila está assim []\n",
            "\n"
          ]
        }
      ],
      "source": [
        "fila = []\n",
        "\n",
        "def enfileirar(elemento ,fila):\n",
        "  fila.append(elemento)\n",
        "  print(f\"Elemento {elemento} foi enfileirado!\")\n",
        "  print(f\"Atualmente a fila está assim {fila}\\n\")\n",
        "\n",
        "def desenfileirar(fila):\n",
        "  if len(fila) > 0:\n",
        "    primeiroElemento = fila.pop(0)\n",
        "    print(f\"Elemento {primeiroElemento} foi desenfileirado!\")\n",
        "    print(f\"Atualmente a fila está assim {fila}\\n\")\n",
        "  else:\n",
        "    print(\"A fila esta vazia\")\n",
        "    print(f\"Atualmente a fila está assim {fila}\\n\")\n",
        "\n",
        "\n",
        "enfileirar(3, fila)\n",
        "enfileirar(5, fila)\n",
        "enfileirar(9, fila)\n",
        "\n",
        "desenfileirar(fila)\n",
        "desenfileirar(fila)\n",
        "desenfileirar(fila)\n",
        "desenfileirar(fila)"
      ]
    },
    {
      "cell_type": "markdown",
      "source": [
        "- Pilha\n",
        "- LIFO\n",
        "- Ultimo a entrar é o primeiro a sair"
      ],
      "metadata": {
        "id": "0LfV82iVsN6p"
      }
    },
    {
      "cell_type": "code",
      "source": [
        "pilha = []\n",
        "\n",
        "def empilhar(elemento, pilha):\n",
        "  pilha.append(elemento)\n",
        "  print(f\"Elemento {elemento} foi empilhado!\")\n",
        "  print(f\"Atualmente a pilha está assim {pilha}\\n\")\n",
        "\n",
        "def desempilhar(pilha):\n",
        "  if len(pilha) > 0:\n",
        "    topo = pilha.pop(-1)\n",
        "    print(f\"Elemento {topo} foi desempilhado!\")\n",
        "    print(f\"Atualmente a pilha está assim {pilha}\\n\")\n",
        "  else:\n",
        "    print(\"A pilha esta vazia\")\n",
        "    print(f\"Atualmente a pilha está assim {pilha}\\n\")\n",
        "\n",
        "empilhar(3, pilha)\n",
        "empilhar(5, pilha)\n",
        "empilhar(9, pilha)\n",
        "\n",
        "desempilhar(pilha)\n",
        "desempilhar(pilha)\n",
        "desempilhar(pilha)\n",
        "desempilhar(pilha)"
      ],
      "metadata": {
        "colab": {
          "base_uri": "https://localhost:8080/"
        },
        "id": "LyfIbEHcsVNQ",
        "outputId": "85a1ed9a-d078-48f5-8a39-dec7e2237e03"
      },
      "execution_count": null,
      "outputs": [
        {
          "output_type": "stream",
          "name": "stdout",
          "text": [
            "Elemento 3 foi empilhado!\n",
            "Atualmente a pilha está assim [3]\n",
            "\n",
            "Elemento 5 foi empilhado!\n",
            "Atualmente a pilha está assim [3, 5]\n",
            "\n",
            "Elemento 9 foi empilhado!\n",
            "Atualmente a pilha está assim [3, 5, 9]\n",
            "\n",
            "Elemento 9 foi desempilhado!\n",
            "Atualmente a pilha está assim [3, 5]\n",
            "\n",
            "Elemento 5 foi desempilhado!\n",
            "Atualmente a pilha está assim [3]\n",
            "\n",
            "Elemento 3 foi desempilhado!\n",
            "Atualmente a pilha está assim []\n",
            "\n",
            "A pilha esta vazia\n",
            "Atualmente a pilha está assim []\n",
            "\n"
          ]
        }
      ]
    },
    {
      "cell_type": "markdown",
      "source": [
        "- lista\n",
        "- list\n",
        "- é uma lista"
      ],
      "metadata": {
        "id": "oVK4NopIzRxl"
      }
    },
    {
      "cell_type": "code",
      "source": [
        "listaFrutas = ['laranja', 'maça', 'pera', 'banana', 'kiwi']\n",
        "\n",
        "primeiraFruta = listaFrutas[0]\n",
        "print(f\"Primeira fruta: {primeiraFruta}\")\n",
        "\n",
        "ultimaFruta = listaFrutas[-1]\n",
        "print(f\"Ultima fruta: {ultimaFruta}\")\n",
        "\n",
        "listaFrutas.append('abacaxi')\n",
        "print(f\"abacaxi adicionado\")\n",
        "print(f\"lista: {listaFrutas}\")\n",
        "\n",
        "listaFrutas.remove('maça')\n",
        "print(f\"maça removida\")\n",
        "print(f\"lista: {listaFrutas}\")\n",
        "\n",
        "if 'banana' in listaFrutas:\n",
        "  print(\"Tem banana aqui dentro!!!\")\n",
        "print(f\"lista: {listaFrutas}\")\n",
        "\n",
        "tamanhoDaLista = len(listaFrutas)\n",
        "print(f\"O tamanho da lista é: {tamanhoDaLista}\")\n",
        "\n",
        "for fruta in listaFrutas:\n",
        "  print(f\"Fruta: {fruta}\")\n",
        "\n",
        "frutasEmMaiusculo = [f.upper() for f in listaFrutas]\n",
        "print(f\"lista maiuscula: {frutasEmMaiusculo}\")"
      ],
      "metadata": {
        "colab": {
          "base_uri": "https://localhost:8080/"
        },
        "id": "boRtfrS3zVnF",
        "outputId": "10685628-b52b-481f-e667-9ae444153314"
      },
      "execution_count": null,
      "outputs": [
        {
          "output_type": "stream",
          "name": "stdout",
          "text": [
            "Primeira fruta: laranja\n",
            "Ultima fruta: kiwi\n",
            "abacaxi adicionado\n",
            "lista: ['laranja', 'maça', 'pera', 'banana', 'kiwi', 'abacaxi']\n",
            "maça removida\n",
            "lista: ['laranja', 'pera', 'banana', 'kiwi', 'abacaxi']\n",
            "Tem banana aqui dentro!!!\n",
            "lista: ['laranja', 'pera', 'banana', 'kiwi', 'abacaxi']\n",
            "O tamanho da lista é: 5\n",
            "Fruta: laranja\n",
            "Fruta: pera\n",
            "Fruta: banana\n",
            "Fruta: kiwi\n",
            "Fruta: abacaxi\n",
            "lista maiuscula: ['LARANJA', 'PERA', 'BANANA', 'KIWI', 'ABACAXI']\n"
          ]
        }
      ]
    },
    {
      "cell_type": "markdown",
      "source": [
        "Exercício"
      ],
      "metadata": {
        "id": "3m8iVuIZ5Azy"
      }
    },
    {
      "cell_type": "code",
      "source": [
        "print(\"========== Uso de estruturas de dados ==========\")\n",
        "listaBebidas = [\"Fanta\", \"Sprite\", \"Coca-Cola\", \"Pepsi\", \"H2O\", \"IT\", \"Convenção\", \"Guaraná Jesus\", \"Mineirinho\"]\n",
        "print(f\"lista inicial: {listaBebidas}\")\n",
        "\n",
        "print(\"\\n==================== Fila ====================\")\n",
        "enfileirar(\"Moutain Dew\", listaBebidas)\n",
        "\n",
        "desenfileirar(listaBebidas)\n",
        "\n",
        "print(\"\\n=================== Pilha ===================\")\n",
        "empilhar(\"Schweppes\", listaBebidas)\n",
        "\n",
        "desempilhar(listaBebidas)\n",
        "\n",
        "print(\"\\n==================== Lista ====================\")\n",
        "listaBebidas.append(\"Dolly\")\n",
        "print(f\"Dolly adicionado\")\n",
        "print(f\"lista: {listaBebidas}\")\n",
        "\n",
        "listaBebidas.remove('Mineirinho')\n",
        "print(f\"\\nMineirinho removido\")\n",
        "print(f\"lista: {listaBebidas}\")\n",
        "\n",
        "\n"
      ],
      "metadata": {
        "colab": {
          "base_uri": "https://localhost:8080/"
        },
        "id": "b-KJ5qex5Aj9",
        "outputId": "40c3baf2-7bd7-48c2-cdec-53aab02500d0"
      },
      "execution_count": null,
      "outputs": [
        {
          "output_type": "stream",
          "name": "stdout",
          "text": [
            "========== Uso de estruturas de dados ==========\n",
            "lista inicial: ['Fanta', 'Sprite', 'Coca-Cola', 'Pepsi', 'H2O', 'IT', 'Convenção', 'Guaraná Jesus', 'Mineirinho']\n",
            "\n",
            "==================== Fila ====================\n",
            "Elemento Moutain Dew foi enfileirado!\n",
            "Atualmente a fila está assim ['Fanta', 'Sprite', 'Coca-Cola', 'Pepsi', 'H2O', 'IT', 'Convenção', 'Guaraná Jesus', 'Mineirinho', 'Moutain Dew']\n",
            "\n",
            "Elemento Fanta foi desenfileirado!\n",
            "Atualmente a fila está assim ['Sprite', 'Coca-Cola', 'Pepsi', 'H2O', 'IT', 'Convenção', 'Guaraná Jesus', 'Mineirinho', 'Moutain Dew']\n",
            "\n",
            "\n",
            "=================== Pilha ===================\n",
            "Elemento Schweppes foi empilhado!\n",
            "Atualmente a pilha está assim ['Sprite', 'Coca-Cola', 'Pepsi', 'H2O', 'IT', 'Convenção', 'Guaraná Jesus', 'Mineirinho', 'Moutain Dew', 'Schweppes']\n",
            "\n",
            "Elemento Schweppes foi desempilhado!\n",
            "Atualmente a pilha está assim ['Sprite', 'Coca-Cola', 'Pepsi', 'H2O', 'IT', 'Convenção', 'Guaraná Jesus', 'Mineirinho', 'Moutain Dew']\n",
            "\n",
            "\n",
            "==================== Lista ====================\n",
            "Dolly adicionado\n",
            "lista: ['Sprite', 'Coca-Cola', 'Pepsi', 'H2O', 'IT', 'Convenção', 'Guaraná Jesus', 'Mineirinho', 'Moutain Dew', 'Dolly']\n",
            "Mineirinho removido\n",
            "lista: ['Sprite', 'Coca-Cola', 'Pepsi', 'H2O', 'IT', 'Convenção', 'Guaraná Jesus', 'Moutain Dew', 'Dolly']\n"
          ]
        }
      ]
    }
  ]
}